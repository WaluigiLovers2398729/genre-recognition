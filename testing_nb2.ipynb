{
 "cells": [
  {
   "cell_type": "code",
   "execution_count": null,
   "metadata": {},
   "outputs": [],
   "source": [
    "model = Model()\n",
    "optim = Adam(learning_rate=0.00005)\n",
    "\n",
    "batch_size = 100\n",
    "epochs = 70\n",
    "\n",
    "calculate_loss = nn.CrossEntropyLoss()\n",
    "\n",
    "genre_data = []\n",
    "genre_labels = []\n",
    "for g in genres:\n",
    "    genre_data.extend(os.listdir(os.path.join(\"recognition/data/spectrograms\", f\"{g}\")))\n",
    "    genre_labels.extend([g] * 100)\n",
    "    \n",
    "# train for 70 epochs\n",
    "for epoch_cnt in range(epochs):\n",
    "    \n",
    "    # batch management\n",
    "    idxs = np.arange(len(genre_data))\n",
    "    np.random.shuffle(idxs)  \n",
    "    for batch_cnt in range(len(genre_data)//batch_size):\n",
    "        batch_indices = idxs[batch_cnt*batch_size : (batch_cnt + 1)*batch_size]\n",
    "        \n",
    "        # training data batch\n",
    "        batch_data = genre_data[batch_indices] \n",
    "        batch_labels = genre_labels[batch_indices]\n",
    "        \n",
    "        # set gradients to zero before backpropragation\n",
    "        optim.zero_grad() \n",
    "        \n",
    "        # compute predicted genre\n",
    "        prediction = []\n",
    "        for i in batch_labels:\n",
    "            prediction.append(model(batch))\n",
    "        \n",
    "        # compute true genre\n",
    "        truth = batch_labels\n",
    "\n",
    "        # compute the loss\n",
    "        loss = calculate_loss(prediction, truth)\n",
    "\n",
    "        # back-propagate through your computational graph through your loss\n",
    "        loss.backward()\n",
    "\n",
    "        # execute gradient descent by calling step() of optim\n",
    "        optim.step()\n",
    "        \n",
    "        # compute the accuracy between the prediction and the truth \n",
    "        acc = (truth, prediction)\n",
    "        \n",
    "        # set the training loss and accuracy\n",
    "        plotter.set_train_batch({\"loss\" : loss.item(),\n",
    "                                 \"accuracy\" : acc},\n",
    "                                 batch_size=batch_size)"
   ]
  }
 ],
 "metadata": {
  "kernelspec": {
   "display_name": "Python 3",
   "language": "python",
   "name": "python3"
  },
  "language_info": {
   "codemirror_mode": {
    "name": "ipython",
    "version": 3
   },
   "file_extension": ".py",
   "mimetype": "text/x-python",
   "name": "python",
   "nbconvert_exporter": "python",
   "pygments_lexer": "ipython3",
   "version": "3.8.5"
  }
 },
 "nbformat": 4,
 "nbformat_minor": 2
}
