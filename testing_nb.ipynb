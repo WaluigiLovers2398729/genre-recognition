{
 "cells": [
  {
   "cell_type": "code",
   "execution_count": 6,
   "source": [
    "from recognition import *"
   ],
   "outputs": [],
   "metadata": {}
  },
  {
   "cell_type": "code",
   "execution_count": null,
   "source": [],
   "outputs": [],
   "metadata": {}
  },
  {
   "cell_type": "code",
   "execution_count": null,
   "source": [],
   "outputs": [],
   "metadata": {}
  }
 ],
 "metadata": {
  "orig_nbformat": 4,
  "language_info": {
   "name": "python",
   "version": "3.8.10",
   "mimetype": "text/x-python",
   "codemirror_mode": {
    "name": "ipython",
    "version": 3
   },
   "pygments_lexer": "ipython3",
   "nbconvert_exporter": "python",
   "file_extension": ".py"
  },
  "kernelspec": {
   "name": "python3",
   "display_name": "Python 3.8.10 64-bit ('week3': conda)"
  },
  "interpreter": {
   "hash": "a3f30e454b25a3002f1b593bf477e07e33f3e94cf82504271cd7680f4044fe07"
  }
 },
 "nbformat": 4,
 "nbformat_minor": 2
}