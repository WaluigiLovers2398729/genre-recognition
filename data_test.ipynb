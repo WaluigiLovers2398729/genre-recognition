{
 "cells": [
  {
   "cell_type": "code",
   "execution_count": 1,
   "metadata": {},
   "outputs": [],
   "source": [
    "from recognition import process_data"
   ]
  },
  {
   "cell_type": "code",
   "execution_count": 2,
   "metadata": {},
   "outputs": [
    {
     "name": "stdout",
     "output_type": "stream",
     "text": [
      "Creating nine genre folders in audiosamples. spectrograms, and training_data...\n"
     ]
    }
   ],
   "source": [
    "print(\"Creating nine genre folders in audiosamples. spectrograms, and training_data...\")\n",
    "process_data.genre_folders()"
   ]
  },
  {
   "cell_type": "code",
   "execution_count": 3,
   "metadata": {},
   "outputs": [
    {
     "name": "stdout",
     "output_type": "stream",
     "text": [
      "Splitting raw database data and moving to respective genre folders in audiosamples...\n",
      "blues\n",
      "classical\n",
      "country\n",
      "disco\n",
      "hiphop\n",
      "metal\n",
      "pop\n",
      "reggae\n",
      "rock\n"
     ]
    }
   ],
   "source": [
    "print(\"Splitting raw database data and moving to respective genre folders in audiosamples...\")\n",
    "process_data.split_and_save()"
   ]
  },
  {
   "cell_type": "code",
   "execution_count": 4,
   "metadata": {},
   "outputs": [
    {
     "name": "stdout",
     "output_type": "stream",
     "text": [
      "Converting data to mel spectrogram arrays...\n",
      "blues\n",
      "classical\n",
      "country\n",
      "disco\n",
      "hiphop\n",
      "metal\n",
      "pop\n",
      "reggae\n",
      "rock\n"
     ]
    }
   ],
   "source": [
    "print(\"Converting data to mel spectrogram arrays...\")\n",
    "process_data.to_mel_spectrograms()"
   ]
  },
  {
   "cell_type": "code",
   "execution_count": 5,
   "metadata": {},
   "outputs": [
    {
     "name": "stdout",
     "output_type": "stream",
     "text": [
      "Moving 25% of converted data to validation group...\n",
      "blues\n",
      "classical\n",
      "country\n",
      "disco\n",
      "hiphop\n",
      "metal\n",
      "pop\n",
      "reggae\n",
      "rock\n"
     ]
    }
   ],
   "source": [
    "print(\"Moving 25% of converted data to validation group...\")\n",
    "process_data.create_sets()"
   ]
  }
 ],
 "metadata": {
  "interpreter": {
   "hash": "7768ecb416cda768411df23ec031f8fab85a265752e2e5c7333390a70ccbd8fc"
  },
  "kernelspec": {
   "display_name": "Python 3",
   "language": "python",
   "name": "python3"
  },
  "language_info": {
   "codemirror_mode": {
    "name": "ipython",
    "version": 3
   },
   "file_extension": ".py",
   "mimetype": "text/x-python",
   "name": "python",
   "nbconvert_exporter": "python",
   "pygments_lexer": "ipython3",
   "version": "3.8.5"
  }
 },
 "nbformat": 4,
 "nbformat_minor": 2
}
