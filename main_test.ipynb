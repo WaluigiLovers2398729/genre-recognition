{
 "cells": [
  {
   "cell_type": "code",
   "execution_count": 1,
   "metadata": {
    "scrolled": true
   },
   "outputs": [
    {
     "name": "stdout",
     "output_type": "stream",
     "text": [
      "Found 4050 images belonging to 9 classes.\n",
      "Found 1350 images belonging to 9 classes.\n"
     ]
    },
    {
     "ename": "SyntaxError",
     "evalue": "(unicode error) 'unicodeescape' codec can't decode bytes in position 4853-4854: truncated \\UXXXXXXXX escape (training.py, line 37)",
     "output_type": "error",
     "traceback": [
      "Traceback \u001b[1;36m(most recent call last)\u001b[0m:\n",
      "  File \u001b[0;32m\"C:\\Users\\nicho\\anaconda3\\lib\\site-packages\\IPython\\core\\interactiveshell.py\"\u001b[0m, line \u001b[0;32m3418\u001b[0m, in \u001b[0;35mrun_code\u001b[0m\n    exec(code_obj, self.user_global_ns, self.user_ns)\n",
      "  File \u001b[0;32m\"<ipython-input-1-65c48effab67>\"\u001b[0m, line \u001b[0;32m1\u001b[0m, in \u001b[0;35m<module>\u001b[0m\n    from recognition import *\n",
      "\u001b[1;36m  File \u001b[1;32m\"C:\\Users\\nicho\\Student_Week4_2021\\Genre-Recognition\\recognition\\__init__.py\"\u001b[1;36m, line \u001b[1;32m3\u001b[1;36m, in \u001b[1;35m<module>\u001b[1;36m\u001b[0m\n\u001b[1;33m    from .training import *\u001b[0m\n",
      "\u001b[1;36m  File \u001b[1;32m\"C:\\Users\\nicho\\Student_Week4_2021\\Genre-Recognition\\recognition\\training.py\"\u001b[1;36m, line \u001b[1;32m37\u001b[0m\n\u001b[1;33m    \"\"\"\u001b[0m\n\u001b[1;37m    ^\u001b[0m\n\u001b[1;31mSyntaxError\u001b[0m\u001b[1;31m:\u001b[0m (unicode error) 'unicodeescape' codec can't decode bytes in position 4853-4854: truncated \\UXXXXXXXX escape\n"
     ]
    }
   ],
   "source": [
    "from recognition import *\n",
    "from matplotlib import pyplot as plt"
   ]
  },
  {
   "cell_type": "code",
   "execution_count": null,
   "metadata": {},
   "outputs": [],
   "source": [
    "print(\"Data already processed. Download from Google Drive if needed.\")\n",
    "# genre_folders()\n",
    "# split_and_save()\n",
    "# to_mel_spectrograms\n",
    "# create_sets()"
   ]
  },
  {
   "cell_type": "code",
   "execution_count": null,
   "metadata": {
    "scrolled": false
   },
   "outputs": [],
   "source": [
    "print(\"Model created and configured. Training data...\")\n",
    "model, history = train()"
   ]
  },
  {
   "cell_type": "code",
   "execution_count": null,
   "metadata": {},
   "outputs": [],
   "source": [
    "print(\"Saving backup of trained model...\")\n",
    "model.save(\"recognition/data/model_backup/\")"
   ]
  },
  {
   "cell_type": "code",
   "execution_count": null,
   "metadata": {},
   "outputs": [],
   "source": [
    "print(\"Plotting model loss and accuracy...\")\n",
    "print(history.history.keys())\n",
    "\n",
    "# UNDER CONSTRUCTION\n",
    "\"\"\"\n",
    "# accuracy plotting [probably has to be fixed]\n",
    "plt.plot(history.history['accuracy'])\n",
    "plt.plot(history.history['val_accuracy'])\n",
    "plt.title('Model Accuracy')\n",
    "plt.ylabel('Accuracy')\n",
    "plt.xlabel('Epoch')\n",
    "plt.legend(['Train', 'Val'], loc='upper left')\n",
    "plt.show()\n",
    "\n",
    "# loss plotting [probably has to be fixed]\n",
    "plt.plot(history.history['loss'])\n",
    "plt.plot(history.history['val_loss'])\n",
    "plt.title('Model Loss')\n",
    "plt.ylabel('Loss')\n",
    "plt.xlabel('Epoch')\n",
    "plt.legend(['Train', 'Val'], loc='upper left')\n",
    "plt.show()\n",
    "\"\"\""
   ]
  },
  {
   "cell_type": "code",
   "execution_count": null,
   "metadata": {},
   "outputs": [],
   "source": [
    "print(\"Place the audio files (.wav) you would like to query in the (recognition/data/query) directory.\")\n",
    "# user query\n",
    "filename = input(\"What is the name of the audio file you would like to find the genre for? \")\n",
    "prediction_labels, predictions = process_query(model, filename)"
   ]
  },
  {
   "cell_type": "code",
   "execution_count": null,
   "metadata": {},
   "outputs": [],
   "source": [
    "print(\"Plotting detected genre frequencies for this audio file...\")\n",
    "# indices for color mapping\n",
    "color_data = [1,2,3,4,5,6,7,8,9]\n",
    "# use tab10 color mapping (stand out well against white background)\n",
    "my_cmap = cm.get_cmap('tab10')\n",
    "\n",
    "# graph setup, including bar sizes\n",
    "genre_labels = ['blues', 'classical', 'country', 'disco', 'hiphop', 'metal', 'pop', 'reggae', 'rock']\n",
    "fig, ax= plt.subplots(figsize=(6,4.5))\n",
    "ax.bar(x=genre_labels, height=predictions, color=my_cmap(color_data))\n",
    "\n",
    "# makes x-axis genre labels tilted 45 degrees\n",
    "plt.xticks(rotation=45)\n",
    "# graph title\n",
    "ax.set_title(\"Probability Distribution Of The Given Song Over Different Genres\")\n",
    "\n",
    "# plot graph\n",
    "plt.show()\n",
    "st.pyplot(fig)"
   ]
  }
 ],
 "metadata": {
  "kernelspec": {
   "display_name": "Python 3",
   "language": "python",
   "name": "python3"
  },
  "language_info": {
   "codemirror_mode": {
    "name": "ipython",
    "version": 3
   },
   "file_extension": ".py",
   "mimetype": "text/x-python",
   "name": "python",
   "nbconvert_exporter": "python",
   "pygments_lexer": "ipython3",
   "version": "3.8.5"
  }
 },
 "nbformat": 4,
 "nbformat_minor": 4
}
